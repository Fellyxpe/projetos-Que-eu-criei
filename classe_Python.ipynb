{
  "nbformat": 4,
  "nbformat_minor": 0,
  "metadata": {
    "colab": {
      "provenance": [],
      "authorship_tag": "ABX9TyO7x+1icBHda1jr8jSKI7en",
      "include_colab_link": true
    },
    "kernelspec": {
      "name": "python3",
      "display_name": "Python 3"
    },
    "language_info": {
      "name": "python"
    }
  },
  "cells": [
    {
      "cell_type": "markdown",
      "metadata": {
        "id": "view-in-github",
        "colab_type": "text"
      },
      "source": [
        "<a href=\"https://colab.research.google.com/github/Fellyxpe/projetos-Que-eu-criei/blob/main/classe_Python.ipynb\" target=\"_parent\"><img src=\"https://colab.research.google.com/assets/colab-badge.svg\" alt=\"Open In Colab\"/></a>"
      ]
    },
    {
      "cell_type": "code",
      "source": [
        "class Pessoa:\n",
        "  def __init__(self, nome, ender):\n",
        "    self.set_nome(nome)\n",
        "    self.set_ender(ender)\n",
        "\n",
        "  def set_nome(self, nome):\n",
        "    self.nome=nome\n",
        "\n",
        "  def set_ender(self, ender):\n",
        "    self.ender=ender\n",
        "  \n",
        "  def get_nome(self):\n",
        "    return self.nome\n",
        "  \n",
        "  def get_ender(self):\n",
        "    return self.ender\n",
        "\n",
        "pessoa1 = Pessoa(\"maria\",\"rua 01234\")\n",
        "pessoa2 = Pessoa(\"joão\",\"rua 56789\")\n",
        "\n",
        "print(f'Nome: {pessoa1.get_nome()}, Endereço: {pessoa1.get_ender()}')\n",
        "print(f'Nome: {pessoa2.get_nome()}, Endereço: {pessoa2.get_ender()}')"
      ],
      "metadata": {
        "colab": {
          "base_uri": "https://localhost:8080/"
        },
        "id": "_hvBlNdZ_1-b",
        "outputId": "c17b6cce-2eb6-43ac-9e33-7a8b04f29bb5"
      },
      "execution_count": 3,
      "outputs": [
        {
          "output_type": "stream",
          "name": "stdout",
          "text": [
            "Nome: maria, Endereço: rua 01234\n",
            "Nome: joão, Endereço: rua 56789\n"
          ]
        }
      ]
    }
  ]
}